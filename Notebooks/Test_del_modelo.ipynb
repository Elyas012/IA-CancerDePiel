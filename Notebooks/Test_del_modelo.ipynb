{
 "cells": [
  {
   "cell_type": "markdown",
   "metadata": {
    "id": "qQixAqmgx6B7"
   },
   "source": [
    "## Importamos las librerias necesarias para el Test"
   ]
  },
  {
   "cell_type": "code",
   "execution_count": 1,
   "metadata": {
    "executionInfo": {
     "elapsed": 8735,
     "status": "ok",
     "timestamp": 1734274003963,
     "user": {
      "displayName": "BRANDON ELIAS JACOME CHORLANGO",
      "userId": "02859313066449929033"
     },
     "user_tz": 300
    },
    "id": "uToY-Whrx6CC"
   },
   "outputs": [],
   "source": [
    "import cv2\n",
    "import numpy as np\n",
    "import tensorflow as tf\n",
    "from tensorflow.keras.models import load_model\n",
    "from tensorflow.keras.preprocessing import image"
   ]
  },
  {
   "cell_type": "markdown",
   "metadata": {
    "id": "iXsb37Kwx6CL"
   },
   "source": [
    "### Cargamos el modelo"
   ]
  },
  {
   "cell_type": "code",
   "execution_count": 3,
   "metadata": {
    "colab": {
     "base_uri": "https://localhost:8080/"
    },
    "executionInfo": {
     "elapsed": 1668,
     "status": "ok",
     "timestamp": 1734278554634,
     "user": {
      "displayName": "BRANDON ELIAS JACOME CHORLANGO",
      "userId": "02859313066449929033"
     },
     "user_tz": 300
    },
    "id": "_IpgTvY8x6CN",
    "outputId": "94956d02-26f8-44bd-ec57-a9ad339a13f6"
   },
   "outputs": [
    {
     "name": "stderr",
     "output_type": "stream",
     "text": [
      "c:\\Users\\elias\\anaconda3\\Lib\\site-packages\\keras\\src\\saving\\saving_lib.py:757: UserWarning: Skipping variable loading for optimizer 'rmsprop', because it has 12 variables whereas the saved optimizer has 22 variables. \n",
      "  saveable.load_own_variables(weights_store.get(inner_path))\n"
     ]
    }
   ],
   "source": [
    "#from google.colab import drive\n",
    "#drive.mount('/content/drive')\n",
    "\n",
    "# Cargar el modelo entrenado de forma local\n",
    "model = load_model(r'C:\\Users\\elias\\Downloads\\CANCER DE PIEL\\Grupo3_IA_CancerPiel\\Model\\modelo_cancer_piel.keras')\n",
    "\n",
    "# Cargar el modelo entrenado drive\n",
    "#model = load_model('/content/drive/MyDrive/PROYECTO-IA-CANCERDEPIEL/Grupo3_IA_CancerPiel/Model/modelo_cancer_piel.keras')"
   ]
  },
  {
   "cell_type": "markdown",
   "metadata": {
    "id": "aeDCxOAox6CP"
   },
   "source": [
    "### Definimos la ruta de la imagen a predecir"
   ]
  },
  {
   "cell_type": "code",
   "execution_count": 4,
   "metadata": {
    "executionInfo": {
     "elapsed": 203,
     "status": "ok",
     "timestamp": 1734278562863,
     "user": {
      "displayName": "BRANDON ELIAS JACOME CHORLANGO",
      "userId": "02859313066449929033"
     },
     "user_tz": 300
    },
    "id": "JZN-mgHSx6CP"
   },
   "outputs": [],
   "source": [
    "# Ruta a la imagen de prueba en drive\n",
    "#image_path = r'/content/drive/MyDrive/PROYECTO-IA-CANCERDEPIEL/Grupo3_IA_CancerPiel/pruebas/Prueba1764.jpg'\n",
    "\n",
    "# Ruta a la imagen de prueba de forma local\n",
    "image_path = r'C:\\Users\\elias\\Downloads\\CANCER DE PIEL\\Grupo3_IA_CancerPiel\\pruebas\\Prueba1764.jpg'"
   ]
  },
  {
   "cell_type": "code",
   "execution_count": 5,
   "metadata": {
    "executionInfo": {
     "elapsed": 185,
     "status": "ok",
     "timestamp": 1734278369468,
     "user": {
      "displayName": "BRANDON ELIAS JACOME CHORLANGO",
      "userId": "02859313066449929033"
     },
     "user_tz": 300
    },
    "id": "-Bms9g_qx6CQ"
   },
   "outputs": [],
   "source": [
    "# Cargar imagen para predecir\n",
    "img = image.load_img(image_path, target_size=(128, 128))  # Asegúrate de que coincida con el tamaño de las imágenes de entrenamiento\n",
    "img = image.img_to_array(img)\n",
    "img = img / 255.0  # Normalizar los valores de los píxeles\n",
    "img = np.expand_dims(img, axis=0)  # Añadir una dimensión extra\n"
   ]
  },
  {
   "cell_type": "markdown",
   "metadata": {
    "id": "gOEfOa7cx6CR"
   },
   "source": [
    "### Hacemos la prediccion y damos devolucion de probabilidad"
   ]
  },
  {
   "cell_type": "code",
   "execution_count": 6,
   "metadata": {
    "colab": {
     "base_uri": "https://localhost:8080/"
    },
    "executionInfo": {
     "elapsed": 230,
     "status": "ok",
     "timestamp": 1734278371707,
     "user": {
      "displayName": "BRANDON ELIAS JACOME CHORLANGO",
      "userId": "02859313066449929033"
     },
     "user_tz": 300
    },
    "id": "jXOF6DHUx6CS",
    "outputId": "7e25325e-a31e-4ae3-ed91-b250c963cbc0"
   },
   "outputs": [
    {
     "name": "stdout",
     "output_type": "stream",
     "text": [
      "\u001b[1m1/1\u001b[0m \u001b[32m━━━━━━━━━━━━━━━━━━━━\u001b[0m\u001b[37m\u001b[0m \u001b[1m0s\u001b[0m 174ms/step\n"
     ]
    }
   ],
   "source": [
    "# Realizar la predicción\n",
    "prediction = model.predict(img)"
   ]
  },
  {
   "cell_type": "code",
   "execution_count": 7,
   "metadata": {
    "colab": {
     "base_uri": "https://localhost:8080/"
    },
    "executionInfo": {
     "elapsed": 181,
     "status": "ok",
     "timestamp": 1734278373509,
     "user": {
      "displayName": "BRANDON ELIAS JACOME CHORLANGO",
      "userId": "02859313066449929033"
     },
     "user_tz": 300
    },
    "id": "8hTkyRXYx6CU",
    "outputId": "814af6d2-4d67-46f9-98ca-19ec5d0fb71c"
   },
   "outputs": [
    {
     "name": "stdout",
     "output_type": "stream",
     "text": [
      "La imagen tiene una probabilidad de 95.04% de ser benigna.\n"
     ]
    }
   ],
   "source": [
    "# Interpretar la predicción\n",
    "if prediction[0] > 0.5:\n",
    "    print(f'La imagen tiene una probabilidad de {prediction[0][0] * 100:.2f}% de ser maligna.')\n",
    "else:\n",
    "    print(f'La imagen tiene una probabilidad de {(1 - prediction[0][0]) * 100:.2f}% de ser benigna.')"
   ]
  }
 ],
 "metadata": {
  "colab": {
   "provenance": []
  },
  "kernelspec": {
   "display_name": "base",
   "language": "python",
   "name": "python3"
  },
  "language_info": {
   "codemirror_mode": {
    "name": "ipython",
    "version": 3
   },
   "file_extension": ".py",
   "mimetype": "text/x-python",
   "name": "python",
   "nbconvert_exporter": "python",
   "pygments_lexer": "ipython3",
   "version": "3.12.7"
  }
 },
 "nbformat": 4,
 "nbformat_minor": 0
}
